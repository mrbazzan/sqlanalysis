{
 "cells": [
  {
   "cell_type": "code",
   "execution_count": 1,
   "metadata": {},
   "outputs": [],
   "source": [
    "%load_ext sql\n",
    "%sql sqlite:///chinook.db"
   ]
  },
  {
   "cell_type": "code",
   "execution_count": 2,
   "metadata": {},
   "outputs": [
    {
     "name": "stdout",
     "output_type": "stream",
     "text": [
      " * sqlite:///chinook.db\n",
      "Done.\n"
     ]
    },
    {
     "data": {
      "text/html": [
       "<table>\n",
       "    <tr>\n",
       "        <th>type</th>\n",
       "        <th>name</th>\n",
       "        <th>tbl_name</th>\n",
       "        <th>rootpage</th>\n",
       "        <th>sql</th>\n",
       "    </tr>\n",
       "    <tr>\n",
       "        <td>table</td>\n",
       "        <td>album</td>\n",
       "        <td>album</td>\n",
       "        <td>2</td>\n",
       "        <td>CREATE TABLE [album]<br>(<br>    [album_id] INTEGER PRIMARY KEY NOT NULL,<br>    [title] NVARCHAR(160)  NOT NULL,<br>    [artist_id] INTEGER  NOT NULL,<br>    FOREIGN KEY ([artist_id]) REFERENCES [artist] ([artist_id]) <br>\t\tON DELETE NO ACTION ON UPDATE NO ACTION<br>)</td>\n",
       "    </tr>\n",
       "    <tr>\n",
       "        <td>table</td>\n",
       "        <td>artist</td>\n",
       "        <td>artist</td>\n",
       "        <td>3</td>\n",
       "        <td>CREATE TABLE [artist]<br>(<br>    [artist_id] INTEGER PRIMARY KEY NOT NULL,<br>    [name] NVARCHAR(120)<br>)</td>\n",
       "    </tr>\n",
       "    <tr>\n",
       "        <td>table</td>\n",
       "        <td>customer</td>\n",
       "        <td>customer</td>\n",
       "        <td>4</td>\n",
       "        <td>CREATE TABLE [customer]<br>(<br>    [customer_id] INTEGER PRIMARY KEY NOT NULL,<br>    [first_name] NVARCHAR(40)  NOT NULL,<br>    [last_name] NVARCHAR(20)  NOT NULL,<br>    [company] NVARCHAR(80),<br>    [address] NVARCHAR(70),<br>    [city] NVARCHAR(40),<br>    [state] NVARCHAR(40),<br>    [country] NVARCHAR(40),<br>    [postal_code] NVARCHAR(10),<br>    [phone] NVARCHAR(24),<br>    [fax] NVARCHAR(24),<br>    [email] NVARCHAR(60)  NOT NULL,<br>    [support_rep_id] INTEGER,<br>    FOREIGN KEY ([support_rep_id]) REFERENCES [employee] ([employee_id]) <br>\t\tON DELETE NO ACTION ON UPDATE NO ACTION<br>)</td>\n",
       "    </tr>\n",
       "    <tr>\n",
       "        <td>table</td>\n",
       "        <td>employee</td>\n",
       "        <td>employee</td>\n",
       "        <td>5</td>\n",
       "        <td>CREATE TABLE [employee]<br>(<br>    [employee_id] INTEGER PRIMARY KEY NOT NULL,<br>    [last_name] NVARCHAR(20)  NOT NULL,<br>    [first_name] NVARCHAR(20)  NOT NULL,<br>    [title] NVARCHAR(30),<br>    [reports_to] INTEGER,<br>    [birthdate] DATETIME,<br>    [hire_date] DATETIME,<br>    [address] NVARCHAR(70),<br>    [city] NVARCHAR(40),<br>    [state] NVARCHAR(40),<br>    [country] NVARCHAR(40),<br>    [postal_code] NVARCHAR(10),<br>    [phone] NVARCHAR(24),<br>    [fax] NVARCHAR(24),<br>    [email] NVARCHAR(60),<br>    FOREIGN KEY ([reports_to]) REFERENCES [employee] ([employee_id]) <br>\t\tON DELETE NO ACTION ON UPDATE NO ACTION<br>)</td>\n",
       "    </tr>\n",
       "    <tr>\n",
       "        <td>table</td>\n",
       "        <td>genre</td>\n",
       "        <td>genre</td>\n",
       "        <td>6</td>\n",
       "        <td>CREATE TABLE [genre]<br>(<br>    [genre_id] INTEGER PRIMARY KEY NOT NULL,<br>    [name] NVARCHAR(120)<br>)</td>\n",
       "    </tr>\n",
       "    <tr>\n",
       "        <td>table</td>\n",
       "        <td>invoice</td>\n",
       "        <td>invoice</td>\n",
       "        <td>7</td>\n",
       "        <td>CREATE TABLE [invoice]<br>(<br>    [invoice_id] INTEGER PRIMARY KEY NOT NULL,<br>    [customer_id] INTEGER  NOT NULL,<br>    [invoice_date] DATETIME  NOT NULL,<br>    [billing_address] NVARCHAR(70),<br>    [billing_city] NVARCHAR(40),<br>    [billing_state] NVARCHAR(40),<br>    [billing_country] NVARCHAR(40),<br>    [billing_postal_code] NVARCHAR(10),<br>    [total] NUMERIC(10,2)  NOT NULL,<br>    FOREIGN KEY ([customer_id]) REFERENCES [customer] ([customer_id]) <br>\t\tON DELETE NO ACTION ON UPDATE NO ACTION<br>)</td>\n",
       "    </tr>\n",
       "    <tr>\n",
       "        <td>table</td>\n",
       "        <td>invoice_line</td>\n",
       "        <td>invoice_line</td>\n",
       "        <td>8</td>\n",
       "        <td>CREATE TABLE [invoice_line]<br>(<br>    [invoice_line_id] INTEGER PRIMARY KEY NOT NULL,<br>    [invoice_id] INTEGER  NOT NULL,<br>    [track_id] INTEGER  NOT NULL,<br>    [unit_price] NUMERIC(10,2)  NOT NULL,<br>    [quantity] INTEGER  NOT NULL,<br>    FOREIGN KEY ([invoice_id]) REFERENCES [invoice] ([invoice_id]) <br>\t\tON DELETE NO ACTION ON UPDATE NO ACTION,<br>    FOREIGN KEY ([track_id]) REFERENCES [track] ([track_id]) <br>\t\tON DELETE NO ACTION ON UPDATE NO ACTION<br>)</td>\n",
       "    </tr>\n",
       "    <tr>\n",
       "        <td>table</td>\n",
       "        <td>media_type</td>\n",
       "        <td>media_type</td>\n",
       "        <td>9</td>\n",
       "        <td>CREATE TABLE [media_type]<br>(<br>    [media_type_id] INTEGER PRIMARY KEY NOT NULL,<br>    [name] NVARCHAR(120)<br>)</td>\n",
       "    </tr>\n",
       "    <tr>\n",
       "        <td>table</td>\n",
       "        <td>playlist</td>\n",
       "        <td>playlist</td>\n",
       "        <td>10</td>\n",
       "        <td>CREATE TABLE [playlist]<br>(<br>    [playlist_id] INTEGER PRIMARY KEY NOT NULL,<br>    [name] NVARCHAR(120)<br>)</td>\n",
       "    </tr>\n",
       "    <tr>\n",
       "        <td>table</td>\n",
       "        <td>playlist_track</td>\n",
       "        <td>playlist_track</td>\n",
       "        <td>11</td>\n",
       "        <td>CREATE TABLE [playlist_track]<br>(<br>    [playlist_id] INTEGER  NOT NULL,<br>    [track_id] INTEGER  NOT NULL,<br>    CONSTRAINT [pk_playlist_track] PRIMARY KEY  ([playlist_id], [track_id]),<br>    FOREIGN KEY ([playlist_id]) REFERENCES [playlist] ([playlist_id]) <br>\t\tON DELETE NO ACTION ON UPDATE NO ACTION,<br>    FOREIGN KEY ([track_id]) REFERENCES [track] ([track_id]) <br>\t\tON DELETE NO ACTION ON UPDATE NO ACTION<br>)</td>\n",
       "    </tr>\n",
       "    <tr>\n",
       "        <td>table</td>\n",
       "        <td>track</td>\n",
       "        <td>track</td>\n",
       "        <td>13</td>\n",
       "        <td>CREATE TABLE [track]<br>(<br>    [track_id] INTEGER PRIMARY KEY NOT NULL,<br>    [name] NVARCHAR(200)  NOT NULL,<br>    [album_id] INTEGER,<br>    [media_type_id] INTEGER  NOT NULL,<br>    [genre_id] INTEGER,<br>    [composer] NVARCHAR(220),<br>    [milliseconds] INTEGER  NOT NULL,<br>    [bytes] INTEGER,<br>    [unit_price] NUMERIC(10,2)  NOT NULL,<br>    FOREIGN KEY ([album_id]) REFERENCES [album] ([album_id]) <br>\t\tON DELETE NO ACTION ON UPDATE NO ACTION,<br>    FOREIGN KEY ([genre_id]) REFERENCES [genre] ([genre_id]) <br>\t\tON DELETE NO ACTION ON UPDATE NO ACTION,<br>    FOREIGN KEY ([media_type_id]) REFERENCES [media_type] ([media_type_id]) <br>\t\tON DELETE NO ACTION ON UPDATE NO ACTION<br>)</td>\n",
       "    </tr>\n",
       "</table>"
      ],
      "text/plain": [
       "[('table', 'album', 'album', 2, 'CREATE TABLE [album]\\n(\\n    [album_id] INTEGER PRIMARY KEY NOT NULL,\\n    [title] NVARCHAR(160)  NOT NULL,\\n    [artist_id] INTEGER  NOT NULL,\\n    FOREIGN KEY ([artist_id]) REFERENCES [artist] ([artist_id]) \\n\\t\\tON DELETE NO ACTION ON UPDATE NO ACTION\\n)'),\n",
       " ('table', 'artist', 'artist', 3, 'CREATE TABLE [artist]\\n(\\n    [artist_id] INTEGER PRIMARY KEY NOT NULL,\\n    [name] NVARCHAR(120)\\n)'),\n",
       " ('table', 'customer', 'customer', 4, 'CREATE TABLE [customer]\\n(\\n    [customer_id] INTEGER PRIMARY KEY NOT NULL,\\n    [first_name] NVARCHAR(40)  NOT NULL,\\n    [last_name] NVARCHAR(20)   ... (276 characters truncated) ...  [support_rep_id] INTEGER,\\n    FOREIGN KEY ([support_rep_id]) REFERENCES [employee] ([employee_id]) \\n\\t\\tON DELETE NO ACTION ON UPDATE NO ACTION\\n)'),\n",
       " ('table', 'employee', 'employee', 5, 'CREATE TABLE [employee]\\n(\\n    [employee_id] INTEGER PRIMARY KEY NOT NULL,\\n    [last_name] NVARCHAR(20)  NOT NULL,\\n    [first_name] NVARCHAR(20)   ... (310 characters truncated) ... 4),\\n    [email] NVARCHAR(60),\\n    FOREIGN KEY ([reports_to]) REFERENCES [employee] ([employee_id]) \\n\\t\\tON DELETE NO ACTION ON UPDATE NO ACTION\\n)'),\n",
       " ('table', 'genre', 'genre', 6, 'CREATE TABLE [genre]\\n(\\n    [genre_id] INTEGER PRIMARY KEY NOT NULL,\\n    [name] NVARCHAR(120)\\n)'),\n",
       " ('table', 'invoice', 'invoice', 7, 'CREATE TABLE [invoice]\\n(\\n    [invoice_id] INTEGER PRIMARY KEY NOT NULL,\\n    [customer_id] INTEGER  NOT NULL,\\n    [invoice_date] DATETIME  NOT NUL ... (195 characters truncated) ... tal] NUMERIC(10,2)  NOT NULL,\\n    FOREIGN KEY ([customer_id]) REFERENCES [customer] ([customer_id]) \\n\\t\\tON DELETE NO ACTION ON UPDATE NO ACTION\\n)'),\n",
       " ('table', 'invoice_line', 'invoice_line', 8, 'CREATE TABLE [invoice_line]\\n(\\n    [invoice_line_id] INTEGER PRIMARY KEY NOT NULL,\\n    [invoice_id] INTEGER  NOT NULL,\\n    [track_id] INTEGER  NOT ... (161 characters truncated) ...  DELETE NO ACTION ON UPDATE NO ACTION,\\n    FOREIGN KEY ([track_id]) REFERENCES [track] ([track_id]) \\n\\t\\tON DELETE NO ACTION ON UPDATE NO ACTION\\n)'),\n",
       " ('table', 'media_type', 'media_type', 9, 'CREATE TABLE [media_type]\\n(\\n    [media_type_id] INTEGER PRIMARY KEY NOT NULL,\\n    [name] NVARCHAR(120)\\n)'),\n",
       " ('table', 'playlist', 'playlist', 10, 'CREATE TABLE [playlist]\\n(\\n    [playlist_id] INTEGER PRIMARY KEY NOT NULL,\\n    [name] NVARCHAR(120)\\n)'),\n",
       " ('table', 'playlist_track', 'playlist_track', 11, 'CREATE TABLE [playlist_track]\\n(\\n    [playlist_id] INTEGER  NOT NULL,\\n    [track_id] INTEGER  NOT NULL,\\n    CONSTRAINT [pk_playlist_track] PRIMARY ... (114 characters truncated) ...  DELETE NO ACTION ON UPDATE NO ACTION,\\n    FOREIGN KEY ([track_id]) REFERENCES [track] ([track_id]) \\n\\t\\tON DELETE NO ACTION ON UPDATE NO ACTION\\n)'),\n",
       " ('table', 'track', 'track', 13, 'CREATE TABLE [track]\\n(\\n    [track_id] INTEGER PRIMARY KEY NOT NULL,\\n    [name] NVARCHAR(200)  NOT NULL,\\n    [album_id] INTEGER,\\n    [media_type_ ... (377 characters truncated) ... ON ON UPDATE NO ACTION,\\n    FOREIGN KEY ([media_type_id]) REFERENCES [media_type] ([media_type_id]) \\n\\t\\tON DELETE NO ACTION ON UPDATE NO ACTION\\n)')]"
      ]
     },
     "execution_count": 2,
     "metadata": {},
     "output_type": "execute_result"
    }
   ],
   "source": [
    "%%sql\n",
    "SELECT * FROM sqlite_master\n",
    "WHERE type = 'table';"
   ]
  },
  {
   "cell_type": "markdown",
   "metadata": {},
   "source": [
    "# Query to find out which genres sell the most tracks in the USA"
   ]
  },
  {
   "cell_type": "code",
   "execution_count": 146,
   "metadata": {},
   "outputs": [
    {
     "name": "stdout",
     "output_type": "stream",
     "text": [
      " * sqlite:///chinook.db\n",
      "Done.\n"
     ]
    },
    {
     "data": {
      "text/html": [
       "<table>\n",
       "    <tr>\n",
       "        <th>genre</th>\n",
       "        <th>number of tracks sold in the USA</th>\n",
       "        <th>percentage_sold(%)</th>\n",
       "    </tr>\n",
       "    <tr>\n",
       "        <td>Rock</td>\n",
       "        <td>561</td>\n",
       "        <td>53.38</td>\n",
       "    </tr>\n",
       "    <tr>\n",
       "        <td>Alternative &amp; Punk</td>\n",
       "        <td>130</td>\n",
       "        <td>12.37</td>\n",
       "    </tr>\n",
       "    <tr>\n",
       "        <td>Metal</td>\n",
       "        <td>124</td>\n",
       "        <td>11.8</td>\n",
       "    </tr>\n",
       "    <tr>\n",
       "        <td>R&amp;B/Soul</td>\n",
       "        <td>53</td>\n",
       "        <td>5.04</td>\n",
       "    </tr>\n",
       "    <tr>\n",
       "        <td>Blues</td>\n",
       "        <td>36</td>\n",
       "        <td>3.43</td>\n",
       "    </tr>\n",
       "    <tr>\n",
       "        <td>Alternative</td>\n",
       "        <td>35</td>\n",
       "        <td>3.33</td>\n",
       "    </tr>\n",
       "    <tr>\n",
       "        <td>Latin</td>\n",
       "        <td>22</td>\n",
       "        <td>2.09</td>\n",
       "    </tr>\n",
       "    <tr>\n",
       "        <td>Pop</td>\n",
       "        <td>22</td>\n",
       "        <td>2.09</td>\n",
       "    </tr>\n",
       "    <tr>\n",
       "        <td>Hip Hop/Rap</td>\n",
       "        <td>20</td>\n",
       "        <td>1.9</td>\n",
       "    </tr>\n",
       "    <tr>\n",
       "        <td>Jazz</td>\n",
       "        <td>14</td>\n",
       "        <td>1.33</td>\n",
       "    </tr>\n",
       "</table>"
      ],
      "text/plain": [
       "[('Rock', 561, 53.38),\n",
       " ('Alternative & Punk', 130, 12.37),\n",
       " ('Metal', 124, 11.8),\n",
       " ('R&B/Soul', 53, 5.04),\n",
       " ('Blues', 36, 3.43),\n",
       " ('Alternative', 35, 3.33),\n",
       " ('Latin', 22, 2.09),\n",
       " ('Pop', 22, 2.09),\n",
       " ('Hip Hop/Rap', 20, 1.9),\n",
       " ('Jazz', 14, 1.33)]"
      ]
     },
     "execution_count": 146,
     "metadata": {},
     "output_type": "execute_result"
    }
   ],
   "source": [
    "%%sql\n",
    "\n",
    "WITH \n",
    "    genre_usa AS\n",
    "        (\n",
    "        SELECT \n",
    "            genre.name genre,\n",
    "            COUNT(quantity) number,\n",
    "            track.album_id\n",
    "        FROM track\n",
    "        INNER JOIN genre on genre.genre_id = track.genre_id\n",
    "        INNER JOIN invoice_line on invoice_line.track_id = track.track_id\n",
    "        INNER JOIN invoice on invoice.invoice_id = invoice_line.invoice_id\n",
    "        WHERE billing_country = 'USA'\n",
    "        GROUP BY genre.name\n",
    "        ORDER BY 2 DESC\n",
    "        ),\n",
    "    genre_usa_percent AS\n",
    "        (\n",
    "        SELECT\n",
    "            genre,\n",
    "            album_id,\n",
    "            number,\n",
    "            ROUND(CAST(number AS Float) / CAST((select sum(number) from genre_usa) AS Float)* 100, 2) percent\n",
    "        FROM genre_usa\n",
    "        )\n",
    "\n",
    "SELECT\n",
    "    genre,\n",
    "    number 'number of tracks sold in the USA',\n",
    "    percent 'percentage_sold(%)'\n",
    "FROM genre_usa_percent\n",
    "LIMIT 10;"
   ]
  },
  {
   "cell_type": "markdown",
   "metadata": {},
   "source": [
    "From the analysis above, the top three genre with the most tracks sold are;\n",
    "- Rock\n",
    "- Alternative & Punk\n",
    "- Metal"
   ]
  },
  {
   "cell_type": "markdown",
   "metadata": {},
   "source": [
    "# Query that finds the total dollar amount of sales assigned to each sales support agent within the company"
   ]
  },
  {
   "cell_type": "code",
   "execution_count": 201,
   "metadata": {},
   "outputs": [
    {
     "name": "stdout",
     "output_type": "stream",
     "text": [
      " * sqlite:///chinook.db\n",
      "Done.\n"
     ]
    },
    {
     "data": {
      "text/html": [
       "<table>\n",
       "    <tr>\n",
       "        <th>employee_name</th>\n",
       "        <th>title</th>\n",
       "        <th>hire_date</th>\n",
       "        <th>number_of_sale</th>\n",
       "        <th>cost_of_sale($)</th>\n",
       "    </tr>\n",
       "    <tr>\n",
       "        <td>Jane Peacock</td>\n",
       "        <td>Sales Support Agent</td>\n",
       "        <td>2017-04-01 00:00:00</td>\n",
       "        <td>212</td>\n",
       "        <td>1731.51</td>\n",
       "    </tr>\n",
       "    <tr>\n",
       "        <td>Margaret Park</td>\n",
       "        <td>Sales Support Agent</td>\n",
       "        <td>2017-05-03 00:00:00</td>\n",
       "        <td>214</td>\n",
       "        <td>1584.0</td>\n",
       "    </tr>\n",
       "    <tr>\n",
       "        <td>Steve Johnson</td>\n",
       "        <td>Sales Support Agent</td>\n",
       "        <td>2017-10-17 00:00:00</td>\n",
       "        <td>188</td>\n",
       "        <td>1393.92</td>\n",
       "    </tr>\n",
       "</table>"
      ],
      "text/plain": [
       "[('Jane Peacock', 'Sales Support Agent', '2017-04-01 00:00:00', 212, 1731.51),\n",
       " ('Margaret Park', 'Sales Support Agent', '2017-05-03 00:00:00', 214, 1584.0),\n",
       " ('Steve Johnson', 'Sales Support Agent', '2017-10-17 00:00:00', 188, 1393.92)]"
      ]
     },
     "execution_count": 201,
     "metadata": {},
     "output_type": "execute_result"
    }
   ],
   "source": [
    "%%sql\n",
    "\n",
    "WITH\n",
    "    inv_cust AS\n",
    "        (\n",
    "        SELECT \n",
    "            support_rep_id,\n",
    "            COUNT(*) number_of_sale,\n",
    "            SUM(total) cost\n",
    "        FROM customer\n",
    "        INNER JOIN invoice ON invoice.customer_id = customer.customer_id\n",
    "        GROUP BY support_rep_id\n",
    "        ),\n",
    "    employee_sales AS\n",
    "        (\n",
    "        SELECT * FROM employee\n",
    "        INNER JOIN inv_cust ON inv_cust.support_rep_id = employee_id\n",
    "        )\n",
    "\n",
    "SELECT \n",
    "    employee_sales.first_name || ' ' || employee_sales.last_name employee_name,\n",
    "    title,\n",
    "    hire_date,\n",
    "    number_of_sale,\n",
    "    ROUND(cost, 2) 'cost_of_sale($)'\n",
    "FROM employee_sales"
   ]
  },
  {
   "cell_type": "markdown",
   "metadata": {},
   "source": [
    "Each customer for the Chinook store gets assigned to a sales support agent within the company when they first make a purchase\n",
    "\n",
    "As it's shown in the table above, the sales support department of the company made (212+214+188) total sales which makes a sum of (1731.51+1584.0+1393.92)$\n",
    "\n",
    "i.e 614 sales ----> **$4709.43**\n",
    "\n",
    "Jane Peacock made the highest number of sale accumulatiing $1731.51 and this is majorly due to the hire date. It can be inferred from the table that the number of sale and cost of sale have a direct relationship with the **hire date** (i.e the sales agent hired the earliest brought in the largest sale.)"
   ]
  },
  {
   "cell_type": "markdown",
   "metadata": {},
   "source": [
    "# Query that returns the number of customers for each country\n",
    "NB: Countries with just one customer are collated into 'Other'"
   ]
  },
  {
   "cell_type": "code",
   "execution_count": 88,
   "metadata": {},
   "outputs": [
    {
     "name": "stdout",
     "output_type": "stream",
     "text": [
      " * sqlite:///chinook.db\n",
      "Done.\n"
     ]
    },
    {
     "data": {
      "text/html": [
       "<table>\n",
       "    <tr>\n",
       "        <th>country</th>\n",
       "        <th>number_of_customer</th>\n",
       "    </tr>\n",
       "    <tr>\n",
       "        <td>Brazil</td>\n",
       "        <td>5</td>\n",
       "    </tr>\n",
       "    <tr>\n",
       "        <td>Canada</td>\n",
       "        <td>8</td>\n",
       "    </tr>\n",
       "    <tr>\n",
       "        <td>Czech Republic</td>\n",
       "        <td>2</td>\n",
       "    </tr>\n",
       "    <tr>\n",
       "        <td>France</td>\n",
       "        <td>5</td>\n",
       "    </tr>\n",
       "    <tr>\n",
       "        <td>Germany</td>\n",
       "        <td>4</td>\n",
       "    </tr>\n",
       "    <tr>\n",
       "        <td>India</td>\n",
       "        <td>2</td>\n",
       "    </tr>\n",
       "    <tr>\n",
       "        <td>Portugal</td>\n",
       "        <td>2</td>\n",
       "    </tr>\n",
       "    <tr>\n",
       "        <td>USA</td>\n",
       "        <td>13</td>\n",
       "    </tr>\n",
       "    <tr>\n",
       "        <td>United Kingdom</td>\n",
       "        <td>3</td>\n",
       "    </tr>\n",
       "    <tr>\n",
       "        <td>Other</td>\n",
       "        <td>15</td>\n",
       "    </tr>\n",
       "</table>"
      ],
      "text/plain": [
       "[('Brazil', 5),\n",
       " ('Canada', 8),\n",
       " ('Czech Republic', 2),\n",
       " ('France', 5),\n",
       " ('Germany', 4),\n",
       " ('India', 2),\n",
       " ('Portugal', 2),\n",
       " ('USA', 13),\n",
       " ('United Kingdom', 3),\n",
       " ('Other', 15)]"
      ]
     },
     "execution_count": 88,
     "metadata": {},
     "output_type": "execute_result"
    }
   ],
   "source": [
    "%%sql\n",
    "\n",
    "WITH\n",
    "    count_query AS\n",
    "        (\n",
    "        SELECT\n",
    "            CASE\n",
    "                WHEN COUNT(*) = 1 THEN 'Other'\n",
    "                ELSE country\n",
    "            END AS country,\n",
    "            COUNT(*) number_of_customer\n",
    "        FROM customer\n",
    "        GROUP BY country\n",
    "        ),\n",
    "    soln_table AS\n",
    "        (\n",
    "        SELECT \n",
    "            country,\n",
    "            SUM(number_of_customer) number_of_customer\n",
    "        FROM count_query\n",
    "        GROUP BY country\n",
    "        )\n",
    "\n",
    "SELECT \n",
    "    country, \n",
    "    number_of_customer \n",
    "FROM \n",
    "    (\n",
    "    SELECT\n",
    "        soln_table.*,\n",
    "        CASE\n",
    "            WHEN country = \"Other\" THEN 1\n",
    "            ELSE 0\n",
    "        END AS sort\n",
    "    FROM soln_table\n",
    "    )\n",
    "ORDER BY sort "
   ]
  }
 ],
 "metadata": {
  "kernelspec": {
   "display_name": "Python 3",
   "language": "python",
   "name": "python3"
  },
  "language_info": {
   "codemirror_mode": {
    "name": "ipython",
    "version": 3
   },
   "file_extension": ".py",
   "mimetype": "text/x-python",
   "name": "python",
   "nbconvert_exporter": "python",
   "pygments_lexer": "ipython3",
   "version": "3.7.2"
  }
 },
 "nbformat": 4,
 "nbformat_minor": 2
}
